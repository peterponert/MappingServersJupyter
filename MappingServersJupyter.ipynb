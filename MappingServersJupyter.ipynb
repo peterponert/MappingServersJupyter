{
 "cells": [
  {
   "cell_type": "code",
   "execution_count": null,
   "id": "ab5aba76-8b19-4a2e-8a42-b5197fbee952",
   "metadata": {},
   "outputs": [],
   "source": [
    "## Based off: https://kanoki.org/python-plotting-latitude-and-longitude-from-csv-on-map-using-basemap-folium-geopandas-and-plotly\n",
    "\n",
    "import ipinfo\n",
    "from IPython.display import display_javascript, display_html, display, JSON\n",
    "import json\n",
    "import pandas as pd\n",
    "import folium\n",
    "\n",
    "access_token = 'ADDYOURSHERE'\n",
    "\n",
    "\n",
    "filename = 'ip_addresses2.csv'\n",
    "with open(filename) as f: ip_addresses = f.readlines()\n",
    "ip_addresses = [x.rstrip() for x in ip_addresses] # remove line breaks\n",
    "\n",
    "\n",
    "handler = ipinfo.getHandler(access_token)\n",
    "data = handler.getBatchDetails(ip_addresses)\n",
    "\n",
    "display(JSON(data))\n",
    "\n",
    "dta = pd.DataFrame.from_records(data, index=None,  )\n",
    "pd.json_normalize(dta)\n",
    "\n",
    "\n",
    "center = [30.0,0.0]\n",
    "\n",
    "mapPic = folium.Map(location = center, zoom_start = 1.5)\n",
    "\n",
    "for column in dta.columns[0:]:\n",
    "    if ( dta[column]['latitude'] == None ) or ( dta[column]['longitude'] == None ):  location = [0, 0]\n",
    "    else:                                                                            location = [float(dta[column]['latitude']), float(dta[column]['longitude'])]\n",
    "        \n",
    "    folium.Circle(location, radius=30000, color='blue', fill=True, fill_color='blue', \n",
    "            tooltip = f'{dta[column][\"ip\"]}\\n <br/>  {dta[column][\"hostname\"] if dta[column][\"hostname\"] != \"nan\" else \"\"}').add_to(mapPic)\n",
    "    line = [ origin, location ]\n",
    "    folium.PolyLine(locations= line  , color='blue',weight=1, opacity=0.1 ).add_to(mapPic)    \n",
    "    \n",
    "#folium.Marker(origin, tooltip='Webserver', icon=folium.Icon(color=\"blue\",icon=\"fa-server\", prefix='fa')).add_to(mapPic)\n",
    "    \n",
    "mapPic\n",
    "\n",
    "//Optional\n",
    "#mapPic.save(\"index.html\")\n",
    "#map_html = mapPic._repr_html_()    \n",
    "#f = open(\"map.html\", \"w\")\n",
    "#f.write(map_html)\n",
    "#f.close()"
   ]
  }
 ],
 "metadata": {
  "kernelspec": {
   "display_name": "Python 3 (ipykernel)",
   "language": "python",
   "name": "python3"
  },
  "language_info": {
   "codemirror_mode": {
    "name": "ipython",
    "version": 3
   },
   "file_extension": ".py",
   "mimetype": "text/x-python",
   "name": "python",
   "nbconvert_exporter": "python",
   "pygments_lexer": "ipython3",
   "version": "3.9.6"
  }
 },
 "nbformat": 4,
 "nbformat_minor": 5
}
