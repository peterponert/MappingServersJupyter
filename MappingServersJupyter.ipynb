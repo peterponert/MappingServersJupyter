## Based off: https://kanoki.org/python-plotting-latitude-and-longitude-from-csv-on-map-using-basemap-folium-geopandas-and-plotly

import ipinfo
from IPython.display import display_javascript, display_html, display, JSON
import json
import pandas as pd
import folium

access_token = 'ADDYOURSHERE'


filename = 'ip_addresses2.csv'
with open(filename) as f: ip_addresses = f.readlines()
ip_addresses = [x.rstrip() for x in ip_addresses] # remove line breaks


handler = ipinfo.getHandler(access_token)
data = handler.getBatchDetails(ip_addresses)

display(JSON(data))

dta = pd.DataFrame.from_records(data, index=None,  )
pd.json_normalize(dta)


center = [30.0,0.0]

mapPic = folium.Map(location = center, zoom_start = 1.5)

for column in dta.columns[0:]:
    if ( dta[column]['latitude'] == None ) or ( dta[column]['longitude'] == None ):  location = [0, 0]
    else:                                                                            location = [float(dta[column]['latitude']), float(dta[column]['longitude'])]
        
    folium.Circle(location, radius=30000, color='blue', fill=True, fill_color='blue', 
            tooltip = f'{dta[column]["ip"]}\n <br/>  {dta[column]["hostname"] if dta[column]["hostname"] != "nan" else ""}').add_to(mapPic)
    line = [ origin, location ]
    folium.PolyLine(locations= line  , color='blue',weight=1, opacity=0.1 ).add_to(mapPic)    
    
#folium.Marker(origin, tooltip='Webserver', icon=folium.Icon(color="blue",icon="fa-server", prefix='fa')).add_to(mapPic)
    
mapPic

//Optional
#mapPic.save("index.html")
#map_html = mapPic._repr_html_()    
#f = open("map.html", "w")
#f.write(map_html)
#f.close()
